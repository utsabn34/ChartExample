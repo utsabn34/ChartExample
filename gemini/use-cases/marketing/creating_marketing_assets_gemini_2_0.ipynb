{
  "cells": [
    {
      "cell_type": "code",
      "execution_count": null,
      "metadata": {
        "id": "ur8xi4C7S06n"
      },
      "outputs": [],
      "source": [
        "# Copyright 2024 Google LLC\n",
        "#\n",
        "# Licensed under the Apache License, Version 2.0 (the \"License\");\n",
        "# you may not use this file except in compliance with the License.\n",
        "# You may obtain a copy of the License at\n",
        "#\n",
        "#     https://www.apache.org/licenses/LICENSE-2.0\n",
        "#\n",
        "# Unless required by applicable law or agreed to in writing, software\n",
        "# distributed under the License is distributed on an \"AS IS\" BASIS,\n",
        "# WITHOUT WARRANTIES OR CONDITIONS OF ANY KIND, either express or implied.\n",
        "# See the License for the specific language governing permissions and\n",
        "# limitations under the License."
      ]
    },
    {
      "cell_type": "markdown",
      "metadata": {
        "id": "JAPoU8Sm5E6e"
      },
    },
    {
      "cell_type": "markdown",
      "metadata": {
        "id": "tvgnzT1CKxrO"
      },
      "source": [
        "## Overview\n",
        "\n",
        "The new Google Gen AI SDK provides a unified interface to Gemini 2.0 through both the Gemini Developer API and the Gemini API on Vertex AI. With a few exceptions, code that runs on one platform will run on both. This means that you can prototype an application using the Developer API and then migrate the application to Vertex AI without rewriting your code.\n",
        "\n",
        "In this tutorial, you will learn how to combine the multimodal capabilities of Gemini and Grounding with Google Search to create a marketing campaign brief and marketing assets.\n",
        "\n",
        "You will complete the following tasks:\n",
        "- Get started with the unified Google Gen AI SDK\n",
        "- Create a marketing campaign brief and assets with Gemini, Grounding with Google Search and Controlled Generation"
      ]
    },
    {
      "cell_type": "markdown",
      "metadata": {
        "id": "61RBz8LLbxCR"
      },
      "source": [
        "## Get started"
      ]
    },
    {
      "cell_type": "markdown",
      "metadata": {
        "id": "No17Cw5hgx12"
      },
      "source": [
        "### Install Google Gen AI SDK\n"
      ]
    },
    {
      "cell_type": "code",
      "execution_count": 2,
      "metadata": {
        "id": "tFy3H3aPgx12",
        "outputId": "a56b9047-ab1e-4def-b060-4d5a9c38f717",
        "colab": {
          "base_uri": "https://localhost:8080/"
        }
      },
      "outputs": [
        {
          "output_type": "stream",
          "name": "stdout",
          "text": [
            "\u001b[?25l   \u001b[90m━━━━━━━━━━━━━━━━━━━━━━━━━━━━━━━━━━━━━━━━\u001b[0m \u001b[32m0.0/196.3 kB\u001b[0m \u001b[31m?\u001b[0m eta \u001b[36m-:--:--\u001b[0m\r\u001b[2K   \u001b[90m━━━━━━━━━━━━━━━━━━━━━━━━━━━━━━━━━━━━━━━━\u001b[0m \u001b[32m196.3/196.3 kB\u001b[0m \u001b[31m7.3 MB/s\u001b[0m eta \u001b[36m0:00:00\u001b[0m\n",
            "\u001b[?25h"
          ]
        }
      ],
      "source": [
        "%pip install --upgrade --quiet google-genai"
      ]
    },
    {
      "cell_type": "markdown",
      "metadata": {
        "id": "R5Xep4W9lq-Z"
      },
      "source": [
        "### Restart runtime\n",
        "\n",
        "To use the newly installed packages in this  runtime, you must restart the runtime. You can do this by running the cell below, which restarts the current kernel.\n",
        "\n",
        "The restart might take a minute or longer. After it's restarted, continue to the next step."
      ]
    },
    {
      "cell_type": "code",
      "execution_count": 1,
      "metadata": {
        "id": "XRvKdaPDTznN",
        "colab": {
          "base_uri": "https://localhost:8080/"
        },
        "outputId": "0a9e947c-23ec-4298-ef35-c0d365f4ddd7"
      },
      "outputs": [
        {
          "output_type": "execute_result",
          "data": {
            "text/plain": [
              "{'status': 'ok', 'restart': True}"
            ]
          },
          "metadata": {},
          "execution_count": 1
        }
      ],
      "source": [
        "import IPython\n",
        "\n",
        "app = IPython.Application.instance()\n",
        "app.kernel.do_shutdown(True)"
      ]
    },
    {
      "cell_type": "markdown",
      "metadata": {
        "id": "SbmM4z7FOBpM"
      },
      "source": [
        "<div class=\"alert alert-block alert-warning\">\n",
        "<b>⚠️ The kernel is going to restart. Wait until it's finished before continuing to the next step. ⚠️</b>\n",
        "</div>\n"
      ]
    },
    {
      "cell_type": "markdown",
      "metadata": {
        "id": "dmWOrTJ3gx13"
      },
      "source": [
        "### Authenticate your notebook environment (Colab only)\n",
        "\n",
        "If you're running this notebook on Google Colab, run the cell below to authenticate your environment."
      ]
    },
    {
      "cell_type": "code",
      "execution_count": 1,
      "metadata": {
        "id": "NyKGtVQjgx13"
      },
      "outputs": [],
      "source": [
        "import sys\n",
        "\n",
        "if \"google.colab\" in sys.modules:\n",
        "    from google.colab import auth\n",
        "\n",
        "    auth.authenticate_user()"
      ]
    },
    {
      "cell_type": "markdown",
      "metadata": {
        "id": "bFksFuwD9TSg"
      },
      "source": [
        "## Using the Google Gen AI SDK"
      ]
    },
    {
      "cell_type": "markdown",
      "metadata": {
        "id": "IEYbYUbiLiqS"
      },
      "source": [
        "### Import the Google Gen AI SDK and other required libraries"
      ]
    },
    {
      "cell_type": "code",
      "execution_count": 2,
      "metadata": {
        "id": "j3pDScBD9Wkp"
      },
      "outputs": [],
      "source": [
        "import json\n",
        "import os\n",
        "\n",
        "from IPython.display import Markdown, display\n",
        "from google import genai\n",
        "from google.genai import types\n",
        "from google.genai.types import GenerateContentConfig, GoogleSearch, Tool\n",
        "from pydantic import BaseModel"
      ]
    },
    {
      "cell_type": "markdown",
      "metadata": {
        "id": "uv7-vd3P__AV"
      },
      "source": [
        "### Using Gemini 2.0 Flash with Vertex AI\n",
        "\n",
        "The new Google Gen AI SDK provides a unified interface to Gemini 2.0 Flash through both the Gemini Developer API and the Gemini API in Vertex AI. Gemini 2.0 Flash is also available through Google AI Studio and Vertex AI Studio.\n",
        "\n",
        "- **[Gemini Developer API](https://ai.google.dev/gemini-api/docs)**: Experiment, prototype, and deploy Gen AI projects.\n",
        "- **[Vertex AI](https://cloud.google.com/vertex-ai/generative-ai/docs/overview)**: Build enterprise-ready AI projects on Google Cloud.\n",
        "\n",
        "The Google Gen AI SDK provides a unified interface to these two API services."
      ]
    },
    {
      "cell_type": "markdown",
      "metadata": {
        "id": "mFCKo15iHKdS"
      },
      "source": [
        "#### Vertex AI\n",
        "\n",
        "For those who are looking to build enterprise-ready AI applications in the Cloud you can use [Vertex AI](https://cloud.google.com/vertex-ai?e=48754805&hl=nl). This means that you can prototype an application using the Gemini Developer API and then migrate the application to Vertex AI without rewriting your code. In the following section, we'll take you through steps on how you can switch from Gemini Developer API to Vertex AI.\n",
        "\n",
        "**To get started, you'll need:**\n",
        "1. A Google Cloud Project\n",
        "  - You can choose to [create a new Google Cloud Project](https://cloud.google.com/resource-manager/docs/creating-managing-projects#creating_a_project) OR\n",
        "  - Reuse an existing project (the same one you used to generate your API key or any other existing projects)\n",
        "2. To enable the [Vertex AI API](https://console.cloud.google.com/flows/enableapi?apiid=aiplatform.googleapis.com)\n",
        "\n",
        "Once your project is all set up, you're ready to switch out your code in the following section!"
      ]
    },
    {
      "cell_type": "markdown",
      "metadata": {
        "id": "x7h8QWG4J1Dw"
      },
      "source": [
        "##### **Set Google Cloud project and location information**\n",
        "\n",
        "**Google Cloud Projects**\n",
        "\n",
        "In Google Cloud, projects are the fundamental building blocks for organizing, managing and securing your cloud resources. With projects, you'll be able to easily isolate resources and assign fine-grained permissions to users/service accounts at the project level. This ensures that only authorized individuals can access and manage resources, thereby enhancing security.\n",
        "\n",
        "**Google Cloud Locations**\n",
        "\n",
        "Location is also important as it mainly affects performance and compliance with data regulations:\n",
        "\n",
        "- Performance: Choosing a location closer to your users reduces latency.\n",
        "\n",
        "- Data residency: Your use case, organization or industry might constraint the location of resources.\n",
        "\n",
        "So, selecting the right location for your Google Cloud resources is crucial for optimizing your applications and ensuring you meet your business requirements.\n",
        "\n",
        "**In the next cell, do the following:**\n",
        "- Replace ```PROJECT_ID``` with your Google Cloud project ID"
      ]
    },
    {
      "cell_type": "code",
      "execution_count": 3,
      "metadata": {
        "id": "Nqwi-5ufWp_B"
      },
      "outputs": [],
      "source": [
        "PROJECT_ID = \"oni-bq-gemini-demo\"  # @param {type: \"string\", placeholder: \"[your-project-id]\", isTemplate: true}\n",
        "if not PROJECT_ID or PROJECT_ID == \"[your-project-id]\":\n",
        "    PROJECT_ID = str(os.environ.get(\"GOOGLE_CLOUD_PROJECT\"))\n",
        "\n",
        "LOCATION = os.environ.get(\"GOOGLE_CLOUD_REGION\", \"us-central1\")"
      ]
    },
    {
      "cell_type": "code",
      "execution_count": 4,
      "metadata": {
        "id": "9EHmJzed1mA5"
      },
      "outputs": [],
      "source": [
        "# Instantiate client for Vertex AI\n",
        "client = genai.Client(vertexai=True, project=PROJECT_ID, location=LOCATION)"
      ]
    },
    {
      "cell_type": "markdown",
      "metadata": {
        "id": "JFX5bZEwMuO0"
      },
      "source": [
        "## Sample Use Case - Creation and Localization of Marketing Assets\n",
        "\n",
        "In this section of the notebook, let's take a look at how we can apply Gemini to a real-world use case.\n",
        "\n",
        "Imagine you're part of a marketing team and you are tasked to create assets for a marketing campaign for the newest phone that your company is launching. As part of this campaign, you'll need to create the following assets:\n",
        "1. Marketing Campaign Brief\n",
        "2. Market Research on the industry\n",
        "2. Social Media Post Ad Copy\n",
        "3. Storyboard for a short-form video\n",
        "\n",
        "Given that your company operates in multiple countries, there is also the added requirement to generate assets in multiple languages such as English, French and Japanese.\n",
        "\n",
        "Let's see how you can use Gemini 2.0 Flash to help you accomplish these tasks!"
      ]
    },
    {
      "cell_type": "code",
      "execution_count": 5,
      "metadata": {
        "id": "ij_fQIepC3IY"
      },
      "outputs": [],
      "source": [
        "MODEL_ID = \"gemini-2.0-flash-001\"  # @param {type: \"string\"}"
      ]
    },
    {
      "cell_type": "markdown",
      "metadata": {
        "id": "ScGbi2kYPgcd"
      },
      "source": [
        "### Creating a marketing campaign brief using a past campaign as reference"
      ]
    },
    {
      "cell_type": "markdown",
      "metadata": {
        "id": "91KzAtrscOic"
      },
      "source": [
        "#### Let's have a look at a sample past campaign brief\n",
        "Your team has done a few campaigns for phone launches in the past and documented each campaign's details in the form of a PDF document. These are stored in [Google Cloud Storage (GCS)](https://cloud.google.com/storage?e=48754805&hl=nl), a scalable, secure, and cost-effective object storage solution.\n",
        "\n",
        "Let's have a look at one of the samples."
      ]
    },
    {
      "cell_type": "code",
      "execution_count": 6,
      "metadata": {
        "id": "ejBQqJgKaJSo",
        "colab": {
          "base_uri": "https://localhost:8080/"
        },
        "outputId": "1865ebe5-b2e6-49c9-a0c1-e2f1836d47ad"
      },
      "outputs": [
        {
          "output_type": "stream",
          "name": "stdout",
          "text": [
            "Click to view the sample file:\n",
            "https://storage.googleapis.com/github-repo/generative-ai/gemini2/use-cases/marketing_example/sample_marketing_campaign_brief.pdf\n"
          ]
        }
      ],
      "source": [
        "# Set the Cloud Storage path\n",
        "marketing_brief_file_path = \"gemini-marketing-docs/sample_marketing_campaign_brief.pdf\"\n",
        "marketing_brief_file_uri = f\"gs://{marketing_brief_file_path}\"\n",
        "marketing_brief_file_url = f\"https://storage.googleapis.com/{marketing_brief_file_path}\"\n",
        "\n",
        "print(\"Click to view the sample file:\")\n",
        "print(marketing_brief_file_url)"
      ]
    },
    {
      "cell_type": "code",
      "source": [],
      "metadata": {
        "id": "taItAnDbBLaN"
      },
      "execution_count": null,
      "outputs": []
    },
    {
      "cell_type": "markdown",
      "metadata": {
        "id": "oTvzN1Ika3cD"
      },
      "source": [
        "#### Define response format with Controlled Generation\n",
        "Given the sample marketing campaign brief, we can use Gemini to efficiently extract key details from your past campaign briefs. To take it a step further, we can use [controlled generation](https://cloud.google.com/vertex-ai/generative-ai/docs/multimodal/control-generated-output) which allows you to define a specific schema for the output so that you receive consistently formatted responses. This is particularly useful when you already have an established data schema that you use for other tasks and you'll be able to directly extract data from the model's output without any post-processing.\n",
        "\n",
        "In the next cell, we define the JSON response schema for our marketing campaign brief."
      ]
    },
    {
      "cell_type": "code",
      "execution_count": 7,
      "metadata": {
        "id": "Z10jmIWbdeaK"
      },
      "outputs": [],
      "source": [
        "# JSON response schema for Marketing Campaign Brief\n",
        "\n",
        "\n",
        "class MarketingCampaignBrief(BaseModel):\n",
        "    campaign_name: str\n",
        "    campaign_objectives: list[str]\n",
        "    target_audience: str\n",
        "    media_strategy: list[str]\n",
        "    timeline: str\n",
        "    target_countries: list[str]\n",
        "    performance_metrics: list[str]"
      ]
    },
    {
      "cell_type": "markdown",
      "metadata": {
        "id": "KX8sMc3UaOG5"
      },
      "source": [
        "#### Extract details from sample past campaign brief with Gemini 2.0 Flash\n",
        "\n",
        "With our response schema all set, we are ready to send our prompt to Gemini 2.0 Flash! As Gemini 2.0 Flash is multimodal, we'll be able to send the PDF document as part of the input for Gemini to process.\n",
        "\n",
        "When using Vertex AI, you'll be able to pass the file's GCS URL directly to the model instead of having to retrieve and upload it. This makes it convenient for you to build multimodal Gemini-powered apps with seamless integration across Google Cloud. Given Gemini's large context window, GCS provides a scalable and reliable place to store massive datasets, making them readily available for inference.\n",
        "\n",
        "In the next cell, you'll do the following:\n",
        "1. Send the prompt together with the sample past campaign brief PDF to Gemini 2.0 Flash\n",
        "2. Specify that Gemini returns the response in the MarketingCampaignBrief schema you defined previously by including ```response_schema=MarketingCampaignBrief``` in the request"
      ]
    },
    {
      "cell_type": "code",
      "execution_count": 8,
      "metadata": {
        "id": "4jFyKLEeOGrD",
        "colab": {
          "base_uri": "https://localhost:8080/",
          "height": 391
        },
        "outputId": "0d42c948-58fe-4176-b167-dc593a1f7b2a"
      },
      "outputs": [
        {
          "output_type": "error",
          "ename": "ClientError",
          "evalue": "400 INVALID_ARGUMENT. {'error': {'code': 400, 'message': 'Cannot fetch content from the provided URL. Please ensure the URL is valid and accessible by Vertex AI. Vertex AI respects robots.txt rules, so confirm the URL is allowed to be crawled. Status: URL_REJECTED-REJECTED_CLIENT_THROTTLED', 'status': 'INVALID_ARGUMENT'}}",
          "traceback": [
            "\u001b[0;31m---------------------------------------------------------------------------\u001b[0m",
            "\u001b[0;31mClientError\u001b[0m                               Traceback (most recent call last)",
            "\u001b[0;32m<ipython-input-8-9472e0d667ec>\u001b[0m in \u001b[0;36m<cell line: 0>\u001b[0;34m()\u001b[0m\n\u001b[1;32m      8\u001b[0m \u001b[0mcontents\u001b[0m \u001b[0;34m=\u001b[0m \u001b[0;34m[\u001b[0m\u001b[0mmarketing_brief_file\u001b[0m\u001b[0;34m,\u001b[0m \u001b[0mprompt\u001b[0m\u001b[0;34m]\u001b[0m\u001b[0;34m\u001b[0m\u001b[0;34m\u001b[0m\u001b[0m\n\u001b[1;32m      9\u001b[0m \u001b[0;34m\u001b[0m\u001b[0m\n\u001b[0;32m---> 10\u001b[0;31m response = client.models.generate_content(\n\u001b[0m\u001b[1;32m     11\u001b[0m     \u001b[0mmodel\u001b[0m\u001b[0;34m=\u001b[0m\u001b[0mMODEL_ID\u001b[0m\u001b[0;34m,\u001b[0m\u001b[0;34m\u001b[0m\u001b[0;34m\u001b[0m\u001b[0m\n\u001b[1;32m     12\u001b[0m     \u001b[0mcontents\u001b[0m\u001b[0;34m=\u001b[0m\u001b[0mcontents\u001b[0m\u001b[0;34m,\u001b[0m\u001b[0;34m\u001b[0m\u001b[0;34m\u001b[0m\u001b[0m\n",
            "\u001b[0;32m/usr/local/lib/python3.11/dist-packages/google/genai/models.py\u001b[0m in \u001b[0;36mgenerate_content\u001b[0;34m(self, model, contents, config)\u001b[0m\n\u001b[1;32m   5628\u001b[0m     \u001b[0;32mwhile\u001b[0m \u001b[0mremaining_remote_calls_afc\u001b[0m \u001b[0;34m>\u001b[0m \u001b[0;36m0\u001b[0m\u001b[0;34m:\u001b[0m\u001b[0;34m\u001b[0m\u001b[0;34m\u001b[0m\u001b[0m\n\u001b[1;32m   5629\u001b[0m       \u001b[0mi\u001b[0m \u001b[0;34m+=\u001b[0m \u001b[0;36m1\u001b[0m\u001b[0;34m\u001b[0m\u001b[0;34m\u001b[0m\u001b[0m\n\u001b[0;32m-> 5630\u001b[0;31m       response = self._generate_content(\n\u001b[0m\u001b[1;32m   5631\u001b[0m           \u001b[0mmodel\u001b[0m\u001b[0;34m=\u001b[0m\u001b[0mmodel\u001b[0m\u001b[0;34m,\u001b[0m \u001b[0mcontents\u001b[0m\u001b[0;34m=\u001b[0m\u001b[0mcontents\u001b[0m\u001b[0;34m,\u001b[0m \u001b[0mconfig\u001b[0m\u001b[0;34m=\u001b[0m\u001b[0mparsed_config\u001b[0m\u001b[0;34m\u001b[0m\u001b[0;34m\u001b[0m\u001b[0m\n\u001b[1;32m   5632\u001b[0m       )\n",
            "\u001b[0;32m/usr/local/lib/python3.11/dist-packages/google/genai/models.py\u001b[0m in \u001b[0;36m_generate_content\u001b[0;34m(self, model, contents, config)\u001b[0m\n\u001b[1;32m   4591\u001b[0m     \u001b[0mrequest_dict\u001b[0m \u001b[0;34m=\u001b[0m \u001b[0m_common\u001b[0m\u001b[0;34m.\u001b[0m\u001b[0mencode_unserializable_types\u001b[0m\u001b[0;34m(\u001b[0m\u001b[0mrequest_dict\u001b[0m\u001b[0;34m)\u001b[0m\u001b[0;34m\u001b[0m\u001b[0;34m\u001b[0m\u001b[0m\n\u001b[1;32m   4592\u001b[0m \u001b[0;34m\u001b[0m\u001b[0m\n\u001b[0;32m-> 4593\u001b[0;31m     response_dict = self._api_client.request(\n\u001b[0m\u001b[1;32m   4594\u001b[0m         \u001b[0;34m'post'\u001b[0m\u001b[0;34m,\u001b[0m \u001b[0mpath\u001b[0m\u001b[0;34m,\u001b[0m \u001b[0mrequest_dict\u001b[0m\u001b[0;34m,\u001b[0m \u001b[0mhttp_options\u001b[0m\u001b[0;34m\u001b[0m\u001b[0;34m\u001b[0m\u001b[0m\n\u001b[1;32m   4595\u001b[0m     )\n",
            "\u001b[0;32m/usr/local/lib/python3.11/dist-packages/google/genai/_api_client.py\u001b[0m in \u001b[0;36mrequest\u001b[0;34m(self, http_method, path, request_dict, http_options)\u001b[0m\n\u001b[1;32m    753\u001b[0m         \u001b[0mhttp_method\u001b[0m\u001b[0;34m,\u001b[0m \u001b[0mpath\u001b[0m\u001b[0;34m,\u001b[0m \u001b[0mrequest_dict\u001b[0m\u001b[0;34m,\u001b[0m \u001b[0mhttp_options\u001b[0m\u001b[0;34m\u001b[0m\u001b[0;34m\u001b[0m\u001b[0m\n\u001b[1;32m    754\u001b[0m     )\n\u001b[0;32m--> 755\u001b[0;31m     \u001b[0mresponse\u001b[0m \u001b[0;34m=\u001b[0m \u001b[0mself\u001b[0m\u001b[0;34m.\u001b[0m\u001b[0m_request\u001b[0m\u001b[0;34m(\u001b[0m\u001b[0mhttp_request\u001b[0m\u001b[0;34m,\u001b[0m \u001b[0mstream\u001b[0m\u001b[0;34m=\u001b[0m\u001b[0;32mFalse\u001b[0m\u001b[0;34m)\u001b[0m\u001b[0;34m\u001b[0m\u001b[0;34m\u001b[0m\u001b[0m\n\u001b[0m\u001b[1;32m    756\u001b[0m     \u001b[0mjson_response\u001b[0m \u001b[0;34m=\u001b[0m \u001b[0mresponse\u001b[0m\u001b[0;34m.\u001b[0m\u001b[0mjson\u001b[0m\u001b[0;34m\u001b[0m\u001b[0;34m\u001b[0m\u001b[0m\n\u001b[1;32m    757\u001b[0m     \u001b[0;32mif\u001b[0m \u001b[0;32mnot\u001b[0m \u001b[0mjson_response\u001b[0m\u001b[0;34m:\u001b[0m\u001b[0;34m\u001b[0m\u001b[0;34m\u001b[0m\u001b[0m\n",
            "\u001b[0;32m/usr/local/lib/python3.11/dist-packages/google/genai/_api_client.py\u001b[0m in \u001b[0;36m_request\u001b[0;34m(self, http_request, stream)\u001b[0m\n\u001b[1;32m    682\u001b[0m           \u001b[0mtimeout\u001b[0m\u001b[0;34m=\u001b[0m\u001b[0mhttp_request\u001b[0m\u001b[0;34m.\u001b[0m\u001b[0mtimeout\u001b[0m\u001b[0;34m,\u001b[0m\u001b[0;34m\u001b[0m\u001b[0;34m\u001b[0m\u001b[0m\n\u001b[1;32m    683\u001b[0m       )\n\u001b[0;32m--> 684\u001b[0;31m       \u001b[0merrors\u001b[0m\u001b[0;34m.\u001b[0m\u001b[0mAPIError\u001b[0m\u001b[0;34m.\u001b[0m\u001b[0mraise_for_response\u001b[0m\u001b[0;34m(\u001b[0m\u001b[0mresponse\u001b[0m\u001b[0;34m)\u001b[0m\u001b[0;34m\u001b[0m\u001b[0;34m\u001b[0m\u001b[0m\n\u001b[0m\u001b[1;32m    685\u001b[0m       return HttpResponse(\n\u001b[1;32m    686\u001b[0m           \u001b[0mresponse\u001b[0m\u001b[0;34m.\u001b[0m\u001b[0mheaders\u001b[0m\u001b[0;34m,\u001b[0m \u001b[0mresponse\u001b[0m \u001b[0;32mif\u001b[0m \u001b[0mstream\u001b[0m \u001b[0;32melse\u001b[0m \u001b[0;34m[\u001b[0m\u001b[0mresponse\u001b[0m\u001b[0;34m.\u001b[0m\u001b[0mtext\u001b[0m\u001b[0;34m]\u001b[0m\u001b[0;34m\u001b[0m\u001b[0;34m\u001b[0m\u001b[0m\n",
            "\u001b[0;32m/usr/local/lib/python3.11/dist-packages/google/genai/errors.py\u001b[0m in \u001b[0;36mraise_for_response\u001b[0;34m(cls, response)\u001b[0m\n\u001b[1;32m     99\u001b[0m     \u001b[0mstatus_code\u001b[0m \u001b[0;34m=\u001b[0m \u001b[0mresponse\u001b[0m\u001b[0;34m.\u001b[0m\u001b[0mstatus_code\u001b[0m\u001b[0;34m\u001b[0m\u001b[0;34m\u001b[0m\u001b[0m\n\u001b[1;32m    100\u001b[0m     \u001b[0;32mif\u001b[0m \u001b[0;36m400\u001b[0m \u001b[0;34m<=\u001b[0m \u001b[0mstatus_code\u001b[0m \u001b[0;34m<\u001b[0m \u001b[0;36m500\u001b[0m\u001b[0;34m:\u001b[0m\u001b[0;34m\u001b[0m\u001b[0;34m\u001b[0m\u001b[0m\n\u001b[0;32m--> 101\u001b[0;31m       \u001b[0;32mraise\u001b[0m \u001b[0mClientError\u001b[0m\u001b[0;34m(\u001b[0m\u001b[0mstatus_code\u001b[0m\u001b[0;34m,\u001b[0m \u001b[0mresponse_json\u001b[0m\u001b[0;34m,\u001b[0m \u001b[0mresponse\u001b[0m\u001b[0;34m)\u001b[0m\u001b[0;34m\u001b[0m\u001b[0;34m\u001b[0m\u001b[0m\n\u001b[0m\u001b[1;32m    102\u001b[0m     \u001b[0;32melif\u001b[0m \u001b[0;36m500\u001b[0m \u001b[0;34m<=\u001b[0m \u001b[0mstatus_code\u001b[0m \u001b[0;34m<\u001b[0m \u001b[0;36m600\u001b[0m\u001b[0;34m:\u001b[0m\u001b[0;34m\u001b[0m\u001b[0;34m\u001b[0m\u001b[0m\n\u001b[1;32m    103\u001b[0m       \u001b[0;32mraise\u001b[0m \u001b[0mServerError\u001b[0m\u001b[0;34m(\u001b[0m\u001b[0mstatus_code\u001b[0m\u001b[0;34m,\u001b[0m \u001b[0mresponse_json\u001b[0m\u001b[0;34m,\u001b[0m \u001b[0mresponse\u001b[0m\u001b[0;34m)\u001b[0m\u001b[0;34m\u001b[0m\u001b[0;34m\u001b[0m\u001b[0m\n",
            "\u001b[0;31mClientError\u001b[0m: 400 INVALID_ARGUMENT. {'error': {'code': 400, 'message': 'Cannot fetch content from the provided URL. Please ensure the URL is valid and accessible by Vertex AI. Vertex AI respects robots.txt rules, so confirm the URL is allowed to be crawled. Status: URL_REJECTED-REJECTED_CLIENT_THROTTLED', 'status': 'INVALID_ARGUMENT'}}"
          ]
        }
      ],
      "source": [
        "prompt = \"\"\"\n",
        "  Extract the details from the sample marketing brief.\n",
        "\"\"\"\n",
        "\n",
        "marketing_brief_file = types.Part.from_uri(\n",
        "    file_uri=marketing_brief_file_url, mime_type=\"application/pdf\"\n",
        ")\n",
        "contents = [marketing_brief_file, prompt]\n",
        "\n",
        "response = client.models.generate_content(\n",
        "    model=MODEL_ID,\n",
        "    contents=contents,\n",
        "    config=GenerateContentConfig(\n",
        "        response_mime_type=\"application/json\",\n",
        "        response_schema=MarketingCampaignBrief,\n",
        "    ),\n",
        ")\n",
        "\n",
        "sample_marketing_brief = response.text\n",
        "sample_marketing_brief_json = json.loads(sample_marketing_brief)\n",
        "print(json.dumps(sample_marketing_brief_json, indent=2))"
      ]
    },
    {
      "cell_type": "markdown",
      "metadata": {
        "id": "94xroHNWfXLI"
      },
      "source": [
        "You've successfully extracted the information from the sample past campaign brief PDF document with Gemini 2.0 Flash and Controlled Generation!"
      ]
    },
    {
      "cell_type": "markdown",
      "metadata": {
        "id": "dQyEGsAEEnIA"
      },
      "source": [
        "### Conduct market research with Google Search as a tool\n",
        "\n",
        "Next, let's do some market research and find out more about the latest trends in the phone industry so that we can enrich our marketing campaign with the latest information.\n",
        "\n",
        "But how can I do it if LLMs are frozen in time? Here's where Google Search as a tool can be used, to make Gemini more factual and up-to-date by letting you use Gemini with Google Search in real-time to access and incorporate information from the vast expanse of the public web. You should expect reduced hallucinations and increased accuracy.\n",
        "\n",
        "**Here are some incredibly useful applications for grounding:**\n",
        "- Question answering: Get accurate answers to questions that require up-to-date information (e.g., \"What's the latest news on...?\").\n",
        "- Content creation: Generate factual and relevant content on various topics.\n",
        "- Chatbots and conversational AI: Build chatbots that can engage in informed and engaging conversations.\n",
        "\n",
        "In the next cells, let's use Grounding with Google Search to find out more about the latest trends!"
      ]
    },
    {
      "cell_type": "code",
      "execution_count": null,
      "metadata": {
        "id": "VTHhLxgu_FoF"
      },
      "outputs": [],
      "source": [
        "def print_grounding_response(response):\n",
        "    \"\"\"Prints Gemini response with grounding citations.\"\"\"\n",
        "    grounding_metadata = response.candidates[0].grounding_metadata\n",
        "\n",
        "    # Citation indices are in byte units\n",
        "    ENCODING = \"utf-8\"\n",
        "    text_bytes = response.text.encode(ENCODING)\n",
        "\n",
        "    prev_index = 0\n",
        "    markdown_text = \"\"\n",
        "\n",
        "    for grounding_support in grounding_metadata.grounding_supports:\n",
        "        text_segment = text_bytes[\n",
        "            prev_index : grounding_support.segment.end_index\n",
        "        ].decode(ENCODING)\n",
        "\n",
        "        footnotes_text = \"\"\n",
        "        for grounding_chunk_index in grounding_support.grounding_chunk_indices:\n",
        "            footnotes_text += f\"[[{grounding_chunk_index + 1}]]({grounding_metadata.grounding_chunks[grounding_chunk_index].web.uri})\\n\"\n",
        "\n",
        "        markdown_text += f\"{text_segment} {footnotes_text}\\n\"\n",
        "        prev_index = grounding_support.segment.end_index\n",
        "\n",
        "    if prev_index < len(text_bytes):\n",
        "        markdown_text += str(text_bytes[prev_index:], encoding=ENCODING)\n",
        "\n",
        "    markdown_text += \"\\n----\\n## Grounding Sources\\n\"\n",
        "\n",
        "    if grounding_metadata.web_search_queries:\n",
        "        markdown_text += (\n",
        "            f\"\\n**Web Search Queries:** {grounding_metadata.web_search_queries}\\n\"\n",
        "        )\n",
        "        if grounding_metadata.search_entry_point:\n",
        "            markdown_text += f\"\\n**Search Entry Point:**\\n {grounding_metadata.search_entry_point.rendered_content}\\n\"\n",
        "    elif grounding_metadata.retrieval_queries:\n",
        "        markdown_text += (\n",
        "            f\"\\n**Retrieval Queries:** {grounding_metadata.retrieval_queries}\\n\"\n",
        "        )\n",
        "\n",
        "    markdown_text += \"### Grounding Chunks\\n\"\n",
        "\n",
        "    for index, grounding_chunk in enumerate(\n",
        "        grounding_metadata.grounding_chunks, start=1\n",
        "    ):\n",
        "        context = grounding_chunk.web or grounding_chunk.retrieved_context\n",
        "        if not context:\n",
        "            print(f\"Skipping Grounding Chunk {grounding_chunk}\")\n",
        "            continue\n",
        "\n",
        "        markdown_text += f\"{index}. [{context.title}]({context.uri})\\n\"\n",
        "\n",
        "    display(Markdown(markdown_text))"
      ]
    },
    {
      "cell_type": "code",
      "execution_count": null,
      "metadata": {
        "id": "-hYkFUxnVsSU",
        "colab": {
          "base_uri": "https://localhost:8080/",
          "height": 1000
        },
        "outputId": "441b4426-8f14-4067-aa0e-dd5f07e89f67"
      },
      "outputs": [
        {
          "output_type": "display_data",
          "data": {
            "text/plain": [
              "<IPython.core.display.Markdown object>"
            ],
            "text/markdown": "Okay, I can help you with understanding the latest trends in the phone industry for your mobile phone campaign. I'll focus on the top 2 phone makers and general public sentiment.\n\nHere's an overview of the latest trends in the phone industry based on the search results:\n\n**Latest Phone Models and Selling Points (Top 2 Phone Makers)**\n\nBased on current information, the top two phone makers are generally considered to be **Samsung** and **Apple**. Here's a look at some of their latest models:\n\n*   **Samsung:** [[1]](https://vertexaisearch.cloud.google.com/grounding-api-redirect/AWQVqAIuz8yddM7VXSjmKVZqINpcuQMflLcGD0f6Ls4SZt7AIRz451pXx1hntS22OvJwKDIe4fe7BryqDGeYEef9ZCrxTAN0luG0x6KnoYqYc4ZUJ0OSK_8t24oFTPzBchAfoAeCEkMwltEy1yKhtQBKHyX27kJZQWKM-xGNCxPLDlo_bBQvvJkjKsmwQldmlcxReSkQjYB-d1AbPSoRe1ndcuqzu-SpMwJMxVhL)\n[[2]](https://vertexaisearch.cloud.google.com/grounding-api-redirect/AWQVqALnmdWAQmEv-Ql-V5Zv_2WTqQJyAz5UcZoYft19wqH8KiQnX_IqkfqjFqQoWRQ31TA9-G7OnQp2Za9NbBQeM0hQqnmDkPQjoAU9OsTvY85uKVzELkm3jQIQ43zRQ2DF0RLECmE6IshSxUxw)\n[[3]](https://vertexaisearch.cloud.google.com/grounding-api-redirect/AWQVqAKKQMW1yFWahciagvSXt0u8h6179U2HNKMNVRGD_pqMIWgca8RbfpodnE_GuWmDP8w1SrkNLDs6V3mjFxoFwyeSd5otsm4ukJGj2_gQZPxnYKONzuKWM9FMgcmx0Pf8NNczDJ8=)\n[[4]](https://vertexaisearch.cloud.google.com/grounding-api-redirect/AWQVqALsp9wmBMhpq6u5ViCJXrkoyo-01sDwqHC2-w2Rtz81uGJsUCn5hLItd8S8P9-1G_tBblt_XKvdJel24p-EgHJb2oAFAa2i93lzyFEc46Wh--qtKQ4hGdAzW_QOvV2jwGRhfZ8=)\n[[5]](https://vertexaisearch.cloud.google.com/grounding-api-redirect/AWQVqAKoR9Onx9_KrMOvkvLKkQeNEnPVQQu1O38Pw9Jxdm-5nK1j2QTs7zS0YUNgyECX7lxG9E1P_8cH-hs3dW9Ls_XKZR8cTyxjE71Sd91ix0gSfDNj71tq_XZbTMR2uSoSHwAnu76_-08=)\n\n\n    *   **Samsung Galaxy S25 Ultra:** AI features are a major selling point, with improvements in speed, reliability, and practicality compared to competing Android phones. [[3]](https://vertexaisearch.cloud.google.com/grounding-api-redirect/AWQVqAKKQMW1yFWahciagvSXt0u8h6179U2HNKMNVRGD_pqMIWgca8RbfpodnE_GuWmDP8w1SrkNLDs6V3mjFxoFwyeSd5otsm4ukJGj2_gQZPxnYKONzuKWM9FMgcmx0Pf8NNczDJ8=)\n\n It also features a large, bright display, and a powerful processor for on-device AI tasks. [[2]](https://vertexaisearch.cloud.google.com/grounding-api-redirect/AWQVqALnmdWAQmEv-Ql-V5Zv_2WTqQJyAz5UcZoYft19wqH8KiQnX_IqkfqjFqQoWRQ31TA9-G7OnQp2Za9NbBQeM0hQqnmDkPQjoAU9OsTvY85uKVzELkm3jQIQ43zRQ2DF0RLECmE6IshSxUxw)\n\n The Neural Engine and ample RAM support these features. [[2]](https://vertexaisearch.cloud.google.com/grounding-api-redirect/AWQVqALnmdWAQmEv-Ql-V5Zv_2WTqQJyAz5UcZoYft19wqH8KiQnX_IqkfqjFqQoWRQ31TA9-G7OnQp2Za9NbBQeM0hQqnmDkPQjoAU9OsTvY85uKVzELkm3jQIQ43zRQ2DF0RLECmE6IshSxUxw)\n\n\n    *   **Samsung Galaxy S25:** Offers the same AI features as the Ultra but at a more affordable price. [[2]](https://vertexaisearch.cloud.google.com/grounding-api-redirect/AWQVqALnmdWAQmEv-Ql-V5Zv_2WTqQJyAz5UcZoYft19wqH8KiQnX_IqkfqjFqQoWRQ31TA9-G7OnQp2Za9NbBQeM0hQqnmDkPQjoAU9OsTvY85uKVzELkm3jQIQ43zRQ2DF0RLECmE6IshSxUxw)\n\n\n*   **Apple:** [[2]](https://vertexaisearch.cloud.google.com/grounding-api-redirect/AWQVqALnmdWAQmEv-Ql-V5Zv_2WTqQJyAz5UcZoYft19wqH8KiQnX_IqkfqjFqQoWRQ31TA9-G7OnQp2Za9NbBQeM0hQqnmDkPQjoAU9OsTvY85uKVzELkm3jQIQ43zRQ2DF0RLECmE6IshSxUxw)\n[[3]](https://vertexaisearch.cloud.google.com/grounding-api-redirect/AWQVqAKKQMW1yFWahciagvSXt0u8h6179U2HNKMNVRGD_pqMIWgca8RbfpodnE_GuWmDP8w1SrkNLDs6V3mjFxoFwyeSd5otsm4ukJGj2_gQZPxnYKONzuKWM9FMgcmx0Pf8NNczDJ8=)\n[[4]](https://vertexaisearch.cloud.google.com/grounding-api-redirect/AWQVqALsp9wmBMhpq6u5ViCJXrkoyo-01sDwqHC2-w2Rtz81uGJsUCn5hLItd8S8P9-1G_tBblt_XKvdJel24p-EgHJb2oAFAa2i93lzyFEc46Wh--qtKQ4hGdAzW_QOvV2jwGRhfZ8=)\n[[5]](https://vertexaisearch.cloud.google.com/grounding-api-redirect/AWQVqAKoR9Onx9_KrMOvkvLKkQeNEnPVQQu1O38Pw9Jxdm-5nK1j2QTs7zS0YUNgyECX7lxG9E1P_8cH-hs3dW9Ls_XKZR8cTyxjE71Sd91ix0gSfDNj71tq_XZbTMR2uSoSHwAnu76_-08=)\n\n\n    *   **iPhone 16 Pro Max:** Known for outstanding cameras, epic battery life, and AI features through Apple Intelligence. [[3]](https://vertexaisearch.cloud.google.com/grounding-api-redirect/AWQVqAKKQMW1yFWahciagvSXt0u8h6179U2HNKMNVRGD_pqMIWgca8RbfpodnE_GuWmDP8w1SrkNLDs6V3mjFxoFwyeSd5otsm4ukJGj2_gQZPxnYKONzuKWM9FMgcmx0Pf8NNczDJ8=)\n[[2]](https://vertexaisearch.cloud.google.com/grounding-api-redirect/AWQVqALnmdWAQmEv-Ql-V5Zv_2WTqQJyAz5UcZoYft19wqH8KiQnX_IqkfqjFqQoWRQ31TA9-G7OnQp2Za9NbBQeM0hQqnmDkPQjoAU9OsTvY85uKVzELkm3jQIQ43zRQ2DF0RLECmE6IshSxUxw)\n\n It may also include a new \"Camera Control\" button for quickly accessing the camera.\n    *   **iPhone 16:** A good value iPhone, likely to be more affordable. [[4]](https://vertexaisearch.cloud.google.com/grounding-api-redirect/AWQVqALsp9wmBMhpq6u5ViCJXrkoyo-01sDwqHC2-w2Rtz81uGJsUCn5hLItd8S8P9-1G_tBblt_XKvdJel24p-EgHJb2oAFAa2i93lzyFEc46Wh--qtKQ4hGdAzW_QOvV2jwGRhfZ8=)\n[[2]](https://vertexaisearch.cloud.google.com/grounding-api-redirect/AWQVqALnmdWAQmEv-Ql-V5Zv_2WTqQJyAz5UcZoYft19wqH8KiQnX_IqkfqjFqQoWRQ31TA9-G7OnQp2Za9NbBQeM0hQqnmDkPQjoAU9OsTvY85uKVzELkm3jQIQ43zRQ2DF0RLECmE6IshSxUxw)\n\n\n    *   **iPhone 16 Pro:** Ready for Apple Intelligence, but may not have the largest screen.\n\n**General Public Sentiment about Mobile Phones** [[6]](https://vertexaisearch.cloud.google.com/grounding-api-redirect/AWQVqAId13S5fNMiohIHWelYZVI7B8e_a-my3FI7d61_TWqTKHwlFJmhqAdEtcYygTOZswuWkhpMsXlhgaf6rqnIAua5IL1WDT1cvtea0eBLeZJ2JmUBFKNBgDhbrqw1uZ6DNcEIS_6GEd2p6zg8oB1k2etLJg==)\n[[7]](https://vertexaisearch.cloud.google.com/grounding-api-redirect/AWQVqAKv6ASfXtSFKr9BdKfRI3wZADSbMLAgNZuNPAbc7K8mQGKiyfcCv0zumNMXJGEaGOnw50BEgsbhJp8v73G51kd3sm9RFWKMc5dTkMsAjRuGYhIqlSYkOpwJwSZkZ5AU982Ct2o3tpX2vQy5BD0mUnx0gKo35jdBxB_IE1NmehkfbA==)\n[[8]](https://vertexaisearch.cloud.google.com/grounding-api-redirect/AWQVqAKzl3gpiuX-IBZfuQPdYYRYbFWyciTAP-q9-gQZXl-XaJv3LVOl8u3kZ1oBphL9RBw363abbmwzTA8_yE6dx08lrtup7UIePinrIrt8Ol4mowOumT4ZWBkxuBrjhD3oQYsSDE5EEWpEISn7QQHigQFEhI1v)\n[[9]](https://vertexaisearch.cloud.google.com/grounding-api-redirect/AWQVqAKiugcfo3wRsn1fc_H8My38xzhsEG4e0NeXxsvhCyIMWLimFkmGsIXeJ8fzX9PmKk21yna2Qjbj0SnoUfvctIQ8T263_3pGYBMrekli45HjM-WOkWKu_2p25BtABdxzoQR8RUi0_buocXZp75_dBf1WVTus)\n\n\n\n*   **High Usage and Increasing Dependence:** People are spending more time on their phones than ever before. [[7]](https://vertexaisearch.cloud.google.com/grounding-api-redirect/AWQVqAKv6ASfXtSFKr9BdKfRI3wZADSbMLAgNZuNPAbc7K8mQGKiyfcCv0zumNMXJGEaGOnw50BEgsbhJp8v73G51kd3sm9RFWKMc5dTkMsAjRuGYhIqlSYkOpwJwSZkZ5AU982Ct2o3tpX2vQy5BD0mUnx0gKo35jdBxB_IE1NmehkfbA==)\n\n Daily usage is around 4 hours and 30 minutes to 4 hours and 37 minutes on average, with expectations of increases. People check their phones frequently throughout the day. [[6]](https://vertexaisearch.cloud.google.com/grounding-api-redirect/AWQVqAId13S5fNMiohIHWelYZVI7B8e_a-my3FI7d61_TWqTKHwlFJmhqAdEtcYygTOZswuWkhpMsXlhgaf6rqnIAua5IL1WDT1cvtea0eBLeZJ2JmUBFKNBgDhbrqw1uZ6DNcEIS_6GEd2p6zg8oB1k2etLJg==)\n[[7]](https://vertexaisearch.cloud.google.com/grounding-api-redirect/AWQVqAKv6ASfXtSFKr9BdKfRI3wZADSbMLAgNZuNPAbc7K8mQGKiyfcCv0zumNMXJGEaGOnw50BEgsbhJp8v73G51kd3sm9RFWKMc5dTkMsAjRuGYhIqlSYkOpwJwSZkZ5AU982Ct2o3tpX2vQy5BD0mUnx0gKo35jdBxB_IE1NmehkfbA==)\n\n\n*   **\"Addiction\" Concerns:** A significant portion of the population (around 57% in the US) considers themselves \"mobile phone addicts\" and feel uncomfortable without their phones. [[7]](https://vertexaisearch.cloud.google.com/grounding-api-redirect/AWQVqAKv6ASfXtSFKr9BdKfRI3wZADSbMLAgNZuNPAbc7K8mQGKiyfcCv0zumNMXJGEaGOnw50BEgsbhJp8v73G51kd3sm9RFWKMc5dTkMsAjRuGYhIqlSYkOpwJwSZkZ5AU982Ct2o3tpX2vQy5BD0mUnx0gKo35jdBxB_IE1NmehkfbA==)\n\n Many experience anxiety when their battery is low. [[7]](https://vertexaisearch.cloud.google.com/grounding-api-redirect/AWQVqAKv6ASfXtSFKr9BdKfRI3wZADSbMLAgNZuNPAbc7K8mQGKiyfcCv0zumNMXJGEaGOnw50BEgsbhJp8v73G51kd3sm9RFWKMc5dTkMsAjRuGYhIqlSYkOpwJwSZkZ5AU982Ct2o3tpX2vQy5BD0mUnx0gKo35jdBxB_IE1NmehkfbA==)\n[[9]](https://vertexaisearch.cloud.google.com/grounding-api-redirect/AWQVqAKiugcfo3wRsn1fc_H8My38xzhsEG4e0NeXxsvhCyIMWLimFkmGsIXeJ8fzX9PmKk21yna2Qjbj0SnoUfvctIQ8T263_3pGYBMrekli45HjM-WOkWKu_2p25BtABdxzoQR8RUi0_buocXZp75_dBf1WVTus)\n\n\n*   **Activities:** Common phone activities include email, photography, internet surfing, navigation, e-commerce, and social media. [[7]](https://vertexaisearch.cloud.google.com/grounding-api-redirect/AWQVqAKv6ASfXtSFKr9BdKfRI3wZADSbMLAgNZuNPAbc7K8mQGKiyfcCv0zumNMXJGEaGOnw50BEgsbhJp8v73G51kd3sm9RFWKMc5dTkMsAjRuGYhIqlSYkOpwJwSZkZ5AU982Ct2o3tpX2vQy5BD0mUnx0gKo35jdBxB_IE1NmehkfbA==)\n\n\n*   **Impact on Mental Health and Focus:** Public school leaders are concerned about the negative impact of cell phones on students' mental health and attention spans. [[8]](https://vertexaisearch.cloud.google.com/grounding-api-redirect/AWQVqAKzl3gpiuX-IBZfuQPdYYRYbFWyciTAP-q9-gQZXl-XaJv3LVOl8u3kZ1oBphL9RBw363abbmwzTA8_yE6dx08lrtup7UIePinrIrt8Ol4mowOumT4ZWBkxuBrjhD3oQYsSDE5EEWpEISn7QQHigQFEhI1v)\n\n\n*   **Desire to Reduce Usage:** A considerable percentage of people feel they spend too much time on their phones and want to cut down. [[6]](https://vertexaisearch.cloud.google.com/grounding-api-redirect/AWQVqAId13S5fNMiohIHWelYZVI7B8e_a-my3FI7d61_TWqTKHwlFJmhqAdEtcYygTOZswuWkhpMsXlhgaf6rqnIAua5IL1WDT1cvtea0eBLeZJ2JmUBFKNBgDhbrqw1uZ6DNcEIS_6GEd2p6zg8oB1k2etLJg==)\n[[9]](https://vertexaisearch.cloud.google.com/grounding-api-redirect/AWQVqAKiugcfo3wRsn1fc_H8My38xzhsEG4e0NeXxsvhCyIMWLimFkmGsIXeJ8fzX9PmKk21yna2Qjbj0SnoUfvctIQ8T263_3pGYBMrekli45HjM-WOkWKu_2p25BtABdxzoQR8RUi0_buocXZp75_dBf1WVTus)\n\n\n*   **Mobile Phone Bans in Schools:** Almost half of the UK public supports a total ban on smartphones in schools. [[10]](https://vertexaisearch.cloud.google.com/grounding-api-redirect/AWQVqAIbZ1tbAc5bGT2NbcBlyOrzzKalmlqd_WMKJLohD8mb7EKfKEXLTLgQF8-WqUrSzYRuUF5_O8DuvvFVN3CevRdv5o5dx0hUNLdzP7hM5vkcIM9jiFB2aein-VUY424FggRTXaYi2rUVnZjaT55qjmfF6-V4pXCaxhU8VMmnGLFE0bIkIRduiw==)\n\n\n\n----\n## Grounding Sources\n\n**Web Search Queries:** ['general public sentiment about mobile phones 2025', 'top 2 phone makers latest phone models 2025']\n\n**Search Entry Point:**\n <style>\n.container {\n  align-items: center;\n  border-radius: 8px;\n  display: flex;\n  font-family: Google Sans, Roboto, sans-serif;\n  font-size: 14px;\n  line-height: 20px;\n  padding: 8px 12px;\n}\n.chip {\n  display: inline-block;\n  border: solid 1px;\n  border-radius: 16px;\n  min-width: 14px;\n  padding: 5px 16px;\n  text-align: center;\n  user-select: none;\n  margin: 0 8px;\n  -webkit-tap-highlight-color: transparent;\n}\n.carousel {\n  overflow: auto;\n  scrollbar-width: none;\n  white-space: nowrap;\n  margin-right: -12px;\n}\n.headline {\n  display: flex;\n  margin-right: 4px;\n}\n.gradient-container {\n  position: relative;\n}\n.gradient {\n  position: absolute;\n  transform: translate(3px, -9px);\n  height: 36px;\n  width: 9px;\n}\n@media (prefers-color-scheme: light) {\n  .container {\n    background-color: #fafafa;\n    box-shadow: 0 0 0 1px #0000000f;\n  }\n  .headline-label {\n    color: #1f1f1f;\n  }\n  .chip {\n    background-color: #ffffff;\n    border-color: #d2d2d2;\n    color: #5e5e5e;\n    text-decoration: none;\n  }\n  .chip:hover {\n    background-color: #f2f2f2;\n  }\n  .chip:focus {\n    background-color: #f2f2f2;\n  }\n  .chip:active {\n    background-color: #d8d8d8;\n    border-color: #b6b6b6;\n  }\n  .logo-dark {\n    display: none;\n  }\n  .gradient {\n    background: linear-gradient(90deg, #fafafa 15%, #fafafa00 100%);\n  }\n}\n@media (prefers-color-scheme: dark) {\n  .container {\n    background-color: #1f1f1f;\n    box-shadow: 0 0 0 1px #ffffff26;\n  }\n  .headline-label {\n    color: #fff;\n  }\n  .chip {\n    background-color: #2c2c2c;\n    border-color: #3c4043;\n    color: #fff;\n    text-decoration: none;\n  }\n  .chip:hover {\n    background-color: #353536;\n  }\n  .chip:focus {\n    background-color: #353536;\n  }\n  .chip:active {\n    background-color: #464849;\n    border-color: #53575b;\n  }\n  .logo-light {\n    display: none;\n  }\n  .gradient {\n    background: linear-gradient(90deg, #1f1f1f 15%, #1f1f1f00 100%);\n  }\n}\n</style>\n<div class=\"container\">\n  <div class=\"headline\">\n    <svg class=\"logo-light\" width=\"18\" height=\"18\" viewBox=\"9 9 35 35\" fill=\"none\" xmlns=\"http://www.w3.org/2000/svg\">\n      <path fill-rule=\"evenodd\" clip-rule=\"evenodd\" d=\"M42.8622 27.0064C42.8622 25.7839 42.7525 24.6084 42.5487 23.4799H26.3109V30.1568H35.5897C35.1821 32.3041 33.9596 34.1222 32.1258 35.3448V39.6864H37.7213C40.9814 36.677 42.8622 32.2571 42.8622 27.0064V27.0064Z\" fill=\"#4285F4\"/>\n      <path fill-rule=\"evenodd\" clip-rule=\"evenodd\" d=\"M26.3109 43.8555C30.9659 43.8555 34.8687 42.3195 37.7213 39.6863L32.1258 35.3447C30.5898 36.3792 28.6306 37.0061 26.3109 37.0061C21.8282 37.0061 18.0195 33.9811 16.6559 29.906H10.9194V34.3573C13.7563 39.9841 19.5712 43.8555 26.3109 43.8555V43.8555Z\" fill=\"#34A853\"/>\n      <path fill-rule=\"evenodd\" clip-rule=\"evenodd\" d=\"M16.6559 29.8904C16.3111 28.8559 16.1074 27.7588 16.1074 26.6146C16.1074 25.4704 16.3111 24.3733 16.6559 23.3388V18.8875H10.9194C9.74388 21.2072 9.06992 23.8247 9.06992 26.6146C9.06992 29.4045 9.74388 32.022 10.9194 34.3417L15.3864 30.8621L16.6559 29.8904V29.8904Z\" fill=\"#FBBC05\"/>\n      <path fill-rule=\"evenodd\" clip-rule=\"evenodd\" d=\"M26.3109 16.2386C28.85 16.2386 31.107 17.1164 32.9095 18.8091L37.8466 13.8719C34.853 11.082 30.9659 9.3736 26.3109 9.3736C19.5712 9.3736 13.7563 13.245 10.9194 18.8875L16.6559 23.3388C18.0195 19.2636 21.8282 16.2386 26.3109 16.2386V16.2386Z\" fill=\"#EA4335\"/>\n    </svg>\n    <svg class=\"logo-dark\" width=\"18\" height=\"18\" viewBox=\"0 0 48 48\" xmlns=\"http://www.w3.org/2000/svg\">\n      <circle cx=\"24\" cy=\"23\" fill=\"#FFF\" r=\"22\"/>\n      <path d=\"M33.76 34.26c2.75-2.56 4.49-6.37 4.49-11.26 0-.89-.08-1.84-.29-3H24.01v5.99h8.03c-.4 2.02-1.5 3.56-3.07 4.56v.75l3.91 2.97h.88z\" fill=\"#4285F4\"/>\n      <path d=\"M15.58 25.77A8.845 8.845 0 0 0 24 31.86c1.92 0 3.62-.46 4.97-1.31l4.79 3.71C31.14 36.7 27.65 38 24 38c-5.93 0-11.01-3.4-13.45-8.36l.17-1.01 4.06-2.85h.8z\" fill=\"#34A853\"/>\n      <path d=\"M15.59 20.21a8.864 8.864 0 0 0 0 5.58l-5.03 3.86c-.98-2-1.53-4.25-1.53-6.64 0-2.39.55-4.64 1.53-6.64l1-.22 3.81 2.98.22 1.08z\" fill=\"#FBBC05\"/>\n      <path d=\"M24 14.14c2.11 0 4.02.75 5.52 1.98l4.36-4.36C31.22 9.43 27.81 8 24 8c-5.93 0-11.01 3.4-13.45 8.36l5.03 3.85A8.86 8.86 0 0 1 24 14.14z\" fill=\"#EA4335\"/>\n    </svg>\n    <div class=\"gradient-container\"><div class=\"gradient\"></div></div>\n  </div>\n  <div class=\"carousel\">\n    <a class=\"chip\" href=\"https://vertexaisearch.cloud.google.com/grounding-api-redirect/AWQVqAL61oYFlXtjdPVCLngTz7iduPLWxdZUiEMBAmCZ6XlvOVMs8sqorfDGC6acs7Qabz1P3BjgLVWrER2Abpv5KZRBOzqCR0uyvr-qbNucKIQ0mPLqMHfOTfXN2jIhNhkT2wvZocQxbnOtl83W2rRdyyKFpZizMqFg8AvMNFflDERYY7euDiD7guMuwbfpNcDV0hT2x_SlnH7E2sYGXq9u6YFvxhXGlQmIjzHWJAFk7RFjlO9KHA==\">general public sentiment about mobile phones 2025</a>\n    <a class=\"chip\" href=\"https://vertexaisearch.cloud.google.com/grounding-api-redirect/AWQVqAJ_kIdNuOYel01-Nw7sMspAh2-TC4m54uJALKg5ifojT4p99DKg5h7hcqeQNiuQ15vomrrXeM4sK4ohNkcLmNd8ypOgUoyhBnHPcuT3JQfW0eYjJsdEkS0tNYlt5bqT7t170N0yBtlkX-ryDsWRPWPG-txyWDgBRMBcoXqHPzN3KN5D1k2bzWz_oafPmqjCo_Cd25YDTA_a91SVrmzr5AOxBJ_HHC6nd_W9uYerQg==\">top 2 phone makers latest phone models 2025</a>\n  </div>\n</div>\n\n### Grounding Chunks\n1. [independent.co.uk](https://vertexaisearch.cloud.google.com/grounding-api-redirect/AWQVqAIuz8yddM7VXSjmKVZqINpcuQMflLcGD0f6Ls4SZt7AIRz451pXx1hntS22OvJwKDIe4fe7BryqDGeYEef9ZCrxTAN0luG0x6KnoYqYc4ZUJ0OSK_8t24oFTPzBchAfoAeCEkMwltEy1yKhtQBKHyX27kJZQWKM-xGNCxPLDlo_bBQvvJkjKsmwQldmlcxReSkQjYB-d1AbPSoRe1ndcuqzu-SpMwJMxVhL)\n2. [tomsguide.com](https://vertexaisearch.cloud.google.com/grounding-api-redirect/AWQVqALnmdWAQmEv-Ql-V5Zv_2WTqQJyAz5UcZoYft19wqH8KiQnX_IqkfqjFqQoWRQ31TA9-G7OnQp2Za9NbBQeM0hQqnmDkPQjoAU9OsTvY85uKVzELkm3jQIQ43zRQ2DF0RLECmE6IshSxUxw)\n3. [zdnet.com](https://vertexaisearch.cloud.google.com/grounding-api-redirect/AWQVqAKKQMW1yFWahciagvSXt0u8h6179U2HNKMNVRGD_pqMIWgca8RbfpodnE_GuWmDP8w1SrkNLDs6V3mjFxoFwyeSd5otsm4ukJGj2_gQZPxnYKONzuKWM9FMgcmx0Pf8NNczDJ8=)\n4. [techradar.com](https://vertexaisearch.cloud.google.com/grounding-api-redirect/AWQVqALsp9wmBMhpq6u5ViCJXrkoyo-01sDwqHC2-w2Rtz81uGJsUCn5hLItd8S8P9-1G_tBblt_XKvdJel24p-EgHJb2oAFAa2i93lzyFEc46Wh--qtKQ4hGdAzW_QOvV2jwGRhfZ8=)\n5. [cnet.com](https://vertexaisearch.cloud.google.com/grounding-api-redirect/AWQVqAKoR9Onx9_KrMOvkvLKkQeNEnPVQQu1O38Pw9Jxdm-5nK1j2QTs7zS0YUNgyECX7lxG9E1P_8cH-hs3dW9Ls_XKZR8cTyxjE71Sd91ix0gSfDNj71tq_XZbTMR2uSoSHwAnu76_-08=)\n6. [explodingtopics.com](https://vertexaisearch.cloud.google.com/grounding-api-redirect/AWQVqAId13S5fNMiohIHWelYZVI7B8e_a-my3FI7d61_TWqTKHwlFJmhqAdEtcYygTOZswuWkhpMsXlhgaf6rqnIAua5IL1WDT1cvtea0eBLeZJ2JmUBFKNBgDhbrqw1uZ6DNcEIS_6GEd2p6zg8oB1k2etLJg==)\n7. [consumeraffairs.com](https://vertexaisearch.cloud.google.com/grounding-api-redirect/AWQVqAKv6ASfXtSFKr9BdKfRI3wZADSbMLAgNZuNPAbc7K8mQGKiyfcCv0zumNMXJGEaGOnw50BEgsbhJp8v73G51kd3sm9RFWKMc5dTkMsAjRuGYhIqlSYkOpwJwSZkZ5AU982Ct2o3tpX2vQy5BD0mUnx0gKo35jdBxB_IE1NmehkfbA==)\n8. [ed.gov](https://vertexaisearch.cloud.google.com/grounding-api-redirect/AWQVqAKzl3gpiuX-IBZfuQPdYYRYbFWyciTAP-q9-gQZXl-XaJv3LVOl8u3kZ1oBphL9RBw363abbmwzTA8_yE6dx08lrtup7UIePinrIrt8Ol4mowOumT4ZWBkxuBrjhD3oQYsSDE5EEWpEISn7QQHigQFEhI1v)\n9. [addictionhelp.com](https://vertexaisearch.cloud.google.com/grounding-api-redirect/AWQVqAKiugcfo3wRsn1fc_H8My38xzhsEG4e0NeXxsvhCyIMWLimFkmGsIXeJ8fzX9PmKk21yna2Qjbj0SnoUfvctIQ8T263_3pGYBMrekli45HjM-WOkWKu_2p25BtABdxzoQR8RUi0_buocXZp75_dBf1WVTus)\n10. [parliament.uk](https://vertexaisearch.cloud.google.com/grounding-api-redirect/AWQVqAIbZ1tbAc5bGT2NbcBlyOrzzKalmlqd_WMKJLohD8mb7EKfKEXLTLgQF8-WqUrSzYRuUF5_O8DuvvFVN3CevRdv5o5dx0hUNLdzP7hM5vkcIM9jiFB2aein-VUY424FggRTXaYi2rUVnZjaT55qjmfF6-V4pXCaxhU8VMmnGLFE0bIkIRduiw==)\n"
          },
          "metadata": {}
        }
      ],
      "source": [
        "# Use Grounding with Google Search to do market research\n",
        "market_research_prompt = \"\"\"\n",
        "  I am planning to launch a mobile phone campaign and I want to understand the latest trends in the phone industry.\n",
        "  Please answer the following questions:\n",
        "  - What are the latest phone models and their selling point from the top 2 phone makers?\n",
        "  - What is the general public sentiment about mobile phones?\n",
        "\"\"\"\n",
        "\n",
        "contents = [market_research_prompt]\n",
        "\n",
        "google_search_tool = Tool(google_search=GoogleSearch())\n",
        "\n",
        "response = client.models.generate_content(\n",
        "    model=MODEL_ID,\n",
        "    contents=contents,\n",
        "    config=GenerateContentConfig(tools=[google_search_tool]),\n",
        ")\n",
        "\n",
        "market_research = response.text\n",
        "print_grounding_response(response)"
      ]
    },
    {
      "cell_type": "markdown",
      "metadata": {
        "id": "7-LBVlhrhj20"
      },
      "source": [
        "Congratulations on using Grounding with Google Search to get the latest information around the phone industry in your market research!"
      ]
    },
    {
      "cell_type": "markdown",
      "metadata": {
        "id": "ZjMex3LKHMzd"
      },
      "source": [
        "### Putting it together\n",
        "\n",
        "Now that we have a template and some market research done, let's try to create a marketing brief for our new phone launch with Gemini 2.0 Flash!\n",
        "\n",
        "In the next cell, you'll pass the following information to Gemini 2.0 Flash:\n",
        "1. Information about the phone that you're launching\n",
        "2. Prompt to instruct Gemini to create a marketing campaign brief\n",
        "3. Extracted information from the sample past campaign brief\n",
        "4. Market research that was done with Grounding with Google Search\n",
        "5. MarketingCampaignBrief schema that was defined previously\n"
      ]
    },
    {
      "cell_type": "code",
      "execution_count": null,
      "metadata": {
        "id": "ksyAm8h0HYpq",
        "colab": {
          "base_uri": "https://localhost:8080/"
        },
        "outputId": "3c8ccd7d-93e9-4f89-c10a-3b357f8651c2"
      },
      "outputs": [
        {
          "output_type": "stream",
          "name": "stdout",
          "text": [
            "{\n",
            "  \"campaign_name\": \"Experience the Future with Pix Phone 10\",\n",
            "  \"campaign_objectives\": [\n",
            "    \"Generate excitement and awareness around the launch of Pix Phone 10\",\n",
            "    \"Drive pre-orders and initial sales of the Pix Phone 10\",\n",
            "    \"Establish Pix Phone 10 as a leader in AI-powered mobile technology\",\n",
            "    \"Highlight the user-friendly redesigned software experience\"\n",
            "  ],\n",
            "  \"target_audience\": \"Tech-savvy individuals aged 20-45 in the US, France, and Japan who are interested in the latest mobile technology, photography, and AI-powered features. They are active on social media and seek a compact, powerful phone.\",\n",
            "  \"media_strategy\": [\n",
            "    \"Social Media Marketing: Utilize platforms like Instagram, TikTok, and X (formerly Twitter) with engaging visuals and short videos showcasing the phone's camera capabilities, redesigned software UX, and compact form factor. Leverage paid advertising to reach a wider audience.\",\n",
            "    \"Influencer Marketing: Partner with tech reviewers and lifestyle influencers in the target markets to create authentic reviews and demonstrations of the Pix Phone 10's features.\",\n",
            "    \"Online Advertising: Run targeted display ads on tech websites, blogs, and online publications. Implement search engine marketing (SEM) to capture users searching for 'AI phone', 'compact phone', 'best phone camera', and related keywords.\",\n",
            "    \"Public Relations: Send review units to major tech publications and websites. Secure press coverage in relevant industry outlets.\",\n",
            "    \"Experiential Marketing: Host launch events in key cities to provide hands-on experiences with the Pix Phone 10.\",\n",
            "    \"Pre-order Incentives: Offer exclusive bundles or discounts to customers who pre-order the Pix Phone 10.\",\n",
            "    \"Highlight the AI capabilities. Address consumer desire to reduce phone usage by highlighting how AI features can save the consumers time. Promote photography, navigation, and e-commerce capabilities.\"\n",
            "  ],\n",
            "  \"timeline\": \"Campaign launch in December 2024 with pre-orders starting immediately. Full availability in January 2025 across the US, France, and Japan.\",\n",
            "  \"target_countries\": [\n",
            "    \"US\",\n",
            "    \"France\",\n",
            "    \"Japan\"\n",
            "  ],\n",
            "  \"performance_metrics\": [\n",
            "    \"Website traffic and engagement (page views, bounce rate, time on site)\",\n",
            "    \"Social media engagement (likes, shares, comments, reach)\",\n",
            "    \"Pre-order numbers and conversion rates\",\n",
            "    \"Sales figures during the initial launch period\",\n",
            "    \"Media mentions and sentiment analysis\",\n",
            "    \"Customer satisfaction scores and reviews\",\n",
            "    \"Track mentions of 'Pix Phone 10' and related keywords across social media and online forums.\"\n",
            "  ]\n",
            "}\n"
          ]
        }
      ],
      "source": [
        "new_phone_details = \"\"\"\n",
        "  Phone Name: Pix Phone 10\n",
        "  Short description: Pix Phone 10 is the flagship phone with a focus on AI-powered features and a completely redesigned form factor.\n",
        "  Tech Specs:\n",
        "    - Camera: 50MP main sensor with 48MP ultrawide lens with autofocus for macro shots\n",
        "    - Performance: P5 processor for fast performance and AI capabilities\n",
        "    - Battery: 4700mAh battery for all-day usage\n",
        "  Key Highlights:\n",
        "    - Powerful camera system\n",
        "    - Redesigned software user experience to introduce more fun\n",
        "    - Compact form factor\n",
        "  Launch timeline: Jan 2025\n",
        "  Target countries: US, France and Japan\n",
        "\"\"\"\n",
        "\n",
        "create_brief_prompt = f\"\"\"\n",
        "Given the following details, create a marketing campaign brief for the new phone launch:\n",
        "\n",
        "Sample campaign brief:\n",
        "{sample_marketing_brief}\n",
        "\n",
        "Market research:\n",
        "{market_research}\n",
        "\n",
        "New phone details:\n",
        "{new_phone_details}\n",
        "\"\"\"\n",
        "\n",
        "contents = [create_brief_prompt]\n",
        "\n",
        "response = client.models.generate_content(\n",
        "    model=MODEL_ID,\n",
        "    contents=contents,\n",
        "    config=GenerateContentConfig(\n",
        "        response_mime_type=\"application/json\",\n",
        "        response_schema=MarketingCampaignBrief,\n",
        "    ),\n",
        ")\n",
        "\n",
        "creative_brief = response.text\n",
        "creative_brief_json = json.loads(creative_brief)\n",
        "print(json.dumps(creative_brief_json, indent=2))"
      ]
    },
    {
      "cell_type": "markdown",
      "metadata": {
        "id": "jjGa1z2rht14"
      },
      "source": [
        "You've successfully created your marketing campaign brief for your upcoming phone launch!"
      ]
    },
    {
      "cell_type": "markdown",
      "metadata": {
        "id": "0kUUTkP_KTNl"
      },
      "source": [
        "### Creating Assets for the Marketing Campaign\n",
        "Now that we have our marketing campaign brief for the upcoming phone launch, we can now use it as information and context to generate some marketing assets.\n",
        "\n",
        "Gemini supports a variety of languages ([complete list](https://cloud.google.com/vertex-ai/generative-ai/docs/learn/models#languages-gemini)) so it is perfect for us as we will need to generate assets in the local language of our target markets: US, France and Japan.\n",
        "\n",
        "In the following sections, we will be looking at creating:\n",
        "- Social Media Ad Copy\n",
        "- Storyboarding for short-form videos"
      ]
    },
    {
      "cell_type": "markdown",
      "metadata": {
        "id": "ME-ot7hmXrB4"
      },
      "source": [
        "#### Creating Social Media Ad Copy\n",
        "Similarly, we will be defining a response schema for ad copy and passing it it to Gemini 2.0 Flash in the request.\n",
        "\n",
        "In the next few cells, we will do the following:\n",
        "1. Define the JSON response schema for our ad copy\n",
        "2. Send the prompt and response schema to Gemini 2.0 Flash"
      ]
    },
    {
      "cell_type": "code",
      "execution_count": null,
      "metadata": {
        "id": "CBnNzb0DJc92"
      },
      "outputs": [],
      "source": [
        "# JSON response schema for an ad copy\n",
        "\n",
        "\n",
        "class AdCopy(BaseModel):\n",
        "    ad_copy_options: list[str]\n",
        "    localization_notes: list[str]\n",
        "    visual_description: list[str]"
      ]
    },
    {
      "cell_type": "code",
      "execution_count": null,
      "metadata": {
        "id": "X0PLRHllLttp",
        "colab": {
          "base_uri": "https://localhost:8080/"
        },
        "outputId": "119ce482-e6d7-43a6-e5ad-d68296f14e61"
      },
      "outputs": [
        {
          "output_type": "stream",
          "name": "stdout",
          "text": [
            "{\n",
            "  \"ad_copy_options\": [\n",
            "    \"🇺🇸 US: Experience the future with Pix Phone 10! 🚀 AI-powered features save you time, amazing camera, and a sleek compact design. Pre-order now and get exclusive bundle! #PixPhone10 #AIphone #compactphone\",\n",
            "    \"🇫🇷 France: Découvrez le futur avec le Pix Phone 10! 🚀 Des fonctionnalités alimentées par l'IA pour vous faire gagner du temps, un appareil photo incroyable et un design compact et élégant. Précommandez maintenant et obtenez un bundle exclusif ! #PixPhone10 #telephoneIA #telephonecompact\",\n",
            "    \"🇯🇵 日本: Pix Phone 10で未来を体験しよう！🚀 AI搭載で時間を節約、素晴らしいカメラ、そして洗練されたコンパクトなデザイン。今すぐ予約して、限定バンドルをゲット！#PixPhone10 #AIフォン #コンパクトフォン\"\n",
            "  ],\n",
            "  \"localization_notes\": [\n",
            "    \"The US ad copy uses American English and focuses on time-saving and design.\",\n",
            "    \"The French ad copy is translated into French, emphasizing similar features with slight adjustments for cultural relevance.\",\n",
            "    \"The Japanese ad copy is translated into Japanese and includes hashtags that are relevant to the Japanese market.\"\n",
            "  ],\n",
            "  \"visual_description\": [\n",
            "    \"US: A video showcasing a diverse group of young adults using the Pix Phone 10 in various everyday scenarios, highlighting its ease of use and compact design.  Focus on capturing high-quality photos in urban environments.\",\n",
            "    \"France: Visuals of the Pix Phone 10 being used in Parisian cafes and landmarks, with emphasis on the phone's camera capturing artistic shots. Showcase AI assistance for shopping and translation while traveling.\",\n",
            "    \"Japan: Showcasing the Pix Phone 10's sleek design in modern Japanese settings, such as trendy cafes and bustling city streets.  Demonstrate the phone's AI capabilities for efficient navigation and e-commerce in Japanese.\"\n",
            "  ]\n",
            "}\n"
          ]
        }
      ],
      "source": [
        "ad_copy_prompt = f\"\"\"\n",
        "  Given the marketing campaign brief, create an Instagram ad-copy for each target market: {creative_brief_json[\"target_countries\"]}\n",
        "  Please localize the ad-copy and the visuals to the target markets for better relevancy to the target audience.\n",
        "  Marketing Campaign Brief:\n",
        "  {creative_brief}\n",
        "\"\"\"\n",
        "\n",
        "contents = [ad_copy_prompt]\n",
        "\n",
        "response = client.models.generate_content(\n",
        "    model=MODEL_ID,\n",
        "    contents=contents,\n",
        "    config=GenerateContentConfig(\n",
        "        response_mime_type=\"application/json\",\n",
        "        response_schema=AdCopy,\n",
        "    ),\n",
        ")\n",
        "\n",
        "ad_copy = response.text\n",
        "ad_copy_json = json.loads(ad_copy)\n",
        "print(json.dumps(ad_copy_json, indent=2, ensure_ascii=False))"
      ]
    },
    {
      "cell_type": "markdown",
      "metadata": {
        "id": "iF_mmCaUkwgq"
      },
      "source": [
        "You've successfully created localized ad copies for each of the target markets in its respective local language!"
      ]
    },
    {
      "cell_type": "markdown",
      "metadata": {
        "id": "1k8qvQ0GXxEz"
      },
      "source": [
        "#### Creating storyboard for short-form videos\n",
        "Lastly, let's get Gemini 2.0 Flash to help us brainstorm a storyboard for a short-form video to accompany the phone launch campaign!\n"
      ]
    },
    {
      "cell_type": "code",
      "execution_count": null,
      "metadata": {
        "id": "rDXmBAEDLXkl",
        "colab": {
          "base_uri": "https://localhost:8080/",
          "height": 1000
        },
        "outputId": "f02529f2-76e2-423e-d9e0-2b51b1a89faa"
      },
      "outputs": [
        {
          "output_type": "display_data",
          "data": {
            "text/plain": [
              "<IPython.core.display.Markdown object>"
            ],
            "text/markdown": "Okay, here's a storyboard for a YouTube Shorts video campaign for the Pix Phone 10, localized for the US, France, and Japan.  The concept focuses on the time-saving AI features and highlights photography, navigation, and e-commerce capabilities, while also acknowledging the desire to reduce phone usage.\n\n**Overall Concept:**  The video will show a person's day significantly improved and streamlined by the Pix Phone 10's AI.  It will use fast cuts, upbeat music (genre will vary slightly by region - see below), and text overlays to emphasize key features and benefits.  The transitions should be quick and modern. The video ends with a call to action.\n\n**Video Length:** ~50-60 seconds\n\n**Music:** Upbeat, trendy music.  (US: Pop/Electronic; France: French House/Electronic; Japan: J-Pop/City Pop inspired Electronic)\n\n**Visual Style:** Clean, modern, and vibrant. Show the phone in action, focusing on the screen and the person's interactions with it.\n\n**Title:** \"Reclaim Your Time: Pix Phone 10 AI\" (Localize this title for each country - see below)\n\n**Storyboard Structure:**\n\n**Scene 1: The Problem (0-5 seconds)**\n\n*   **Visual:** A person looking stressed and overwhelmed.  Hands full, running late.  Background is a chaotic scene relevant to each market:\n    *   **US:** Rush hour traffic in a city like NYC or LA.\n    *   **France:** Crowded Parisian metro station.\n    *   **Japan:** Scramble crossing at Shibuya.\n*   **Audio:** Frantic ticking clock sound effect, overlaid with bustling city sounds.\n*   **Text Overlay:** \"Too Much to Do?\" (Localized: \"Trop de choses à faire ?\" - France; 「やることが多すぎる？」- Japan)\n\n**Scene 2: Introducing the Pix Phone 10 AI (5-10 seconds)**\n\n*   **Visual:** Quick cut to the Pix Phone 10 in the person's hand.  Close-up of the screen showing a clean, minimalist interface. A notification pops up.\n*   **Audio:** A whooshing sound effect transitions into upbeat music.\n*   **Text Overlay:** \"Introducing Pix Phone 10 AI\" (Localized: \"Voici le Pix Phone 10 IA\" - France; 「Pix Phone 10 AI新登場」- Japan)\n*   **Voiceover (Optional, if time allows):** \"Your AI-Powered Assistant is Here.\" (Localized: \"Votre assistant alimenté par l'IA est là.\" - France; 「AI搭載のアシスタントが登場」- Japan)\n\n**Scene 3: AI-Powered Photography (10-20 seconds)**\n\n*   **Visual:** Series of quick shots demonstrating AI-powered photography:\n    *   Person taking a photo of food in a restaurant. AI automatically identifies the dish and suggests optimal settings. Show side-by-side comparison of a \"before\" and \"after\" shot, clearly showing the AI enhancement.\n    *   Person taking a portrait of a friend. AI automatically blurs the background for a professional-looking shot.\n    *   Person capturing a beautiful landscape. AI enhances colors and details.\n*   **Audio:** Camera shutter sound effects, satisfying \"click\" sound when the AI enhances the image.  Music continues.\n*   **Text Overlay:** \"AI-Powered Photography\" (Localized: \"Photographie alimentée par l'IA\" - France; 「AI搭載のカメラ」- Japan), \"Perfect Shots, Every Time.\" (Localized: \"Des photos parfaites, à chaque fois.\" - France; 「いつでも完璧な写真」- Japan),  \"Automatic Enhancements\" (Localized: \"Améliorations automatiques\" - France; 「自動補正」- Japan)\n*   **Location Specific Nuances:**\n    *   **US:** Show diverse subjects in the photos. Focus on food trends and landscape photography.\n    *   **France:** Highlight artistic and aesthetic photography.  Focus on architectural details and portraits.\n    *   **Japan:** Showcase the phone's ability to capture vivid colors and details in cityscapes and nature scenes.\n\n**Scene 4: AI-Powered Navigation (20-30 seconds)**\n\n*   **Visual:** Series of quick shots demonstrating AI-powered navigation:\n    *   Person walking through a city street.  The phone shows a clear, AR-enhanced navigation overlay on the real-world view.\n    *   Person driving. The phone proactively reroutes them around traffic.\n    *   Person using public transport. The AI app predicts the best route and informs about unexpected delays.\n*   **Audio:** GPS navigation voice, \"recalculating route\" sound, public transport announcement sound effect. Music continues.\n*   **Text Overlay:** \"Smart Navigation\" (Localized: \"Navigation Intelligente\" - France; 「スマートナビ」- Japan), \"Avoid Traffic\" (Localized: \"Évitez les embouteillages\" - France; 「渋滞回避」- Japan), \"AR-Enhanced Directions\" (Localized: \"Itinéraire en RA\" - France; 「ARナビゲーション」- Japan)\n*  **Location Specific Nuances:**\n    *   **US:** Depict using ride-sharing navigation and point out EV charging locations.\n    *   **France:** Focus on the use of public transportation navigation.\n    *   **Japan:** Highlight the efficient navigation within the complex train systems.\n\n**Scene 5: AI-Powered E-commerce (30-40 seconds)**\n\n*   **Visual:** Series of quick shots demonstrating AI-powered e-commerce:\n    *   Person seeing an item in a store window.  They take a photo with the Pix Phone 10. The AI identifies the item and finds similar items online with price comparisons.\n    *   Person talking to the phone while looking for birthday gifts. The AI suggests gifts tailored to the recipient's known interests.\n    *   Person quickly completing a purchase using the phone's secure payment system.\n*   **Audio:** Shopping cart sound effect, notification sound for a successful purchase, the person saying something like \"Thanks, Pix Phone!\"\n*   **Text Overlay:** \"Smart Shopping\" (Localized: \"Shopping Intelligent\" - France; 「スマートショッピング」- Japan), \"Find the Best Deals\" (Localized: \"Trouvez les meilleures offres\" - France; 「お得な情報を見つける」- Japan), \"AI-Powered Recommendations\" (Localized: \"Recommandations basées sur l'IA\" - France; 「AIおすすめ」- Japan)\n*   **Location Specific Nuances:**\n    *   **US:** Show a variety of online retailers and highlight deals related to popular American brands.\n    *   **France:** Focus on fashion, beauty, and artisan products. Show the phone's ability to translate product descriptions.\n    *   **Japan:** Showcase e-commerce sites that are popular with Japanese consumers, like Rakuten or Yahoo! Shopping.\n\n**Scene 6: Reclaim Your Time (40-50 seconds)**\n\n*   **Visual:** The person from Scene 1 is now relaxed and smiling. They are enjoying their free time - reading a book in a park (US), sipping coffee at a cafe (France), enjoying a moment of mindfulness in a temple garden (Japan).\n*   **Audio:** Music becomes more peaceful and uplifting.\n*   **Text Overlay:** \"Reclaim Your Time\" (Localized: \"Reprenez votre temps\" - France; 「時間を取り戻す」- Japan), \"Pix Phone 10 AI\" (Localized: \"Pix Phone 10 IA\" - France; 「Pix Phone 10 AI」- Japan), \"Live Smarter, Not Harder.\" (Localized: \"Vivez plus intelligemment, pas plus durement.\" - France; 「賢く生きよう」- Japan)\n\n**Scene 7: Call to Action (50-60 seconds)**\n\n*   **Visual:** Close-up shot of the Pix Phone 10, rotating slowly to showcase its design.\n*   **Audio:** Music swells.\n*   **Text Overlay:** \"Pre-order Now!\" (Localized: \"Précommandez maintenant !\" - France; 「今すぐ予約！」- Japan)  Link to website/pre-order page.  Small print: \"Available January 2025\" (Localized, of course).\n\n**Localization Notes Summary:**\n\n*   **Text:** All text overlays must be translated accurately and culturally appropriately.\n*   **Visuals:** Choose locations, clothing, and cultural references that resonate with each target market.\n*   **Audio:** Music genre should be adjusted to reflect local tastes.  Consider using local voiceover talent.\n*   **E-commerce:** Show relevant online shopping platforms and brands.\n*   **Navigation:** Depict realistic urban or rural landscapes.\n*   **AI Features:** Showcase AI features that address specific local needs and concerns.\n*   **Tone:** Maintain a positive and aspirational tone throughout the video.\n\nThis storyboard provides a strong foundation for creating engaging and effective YouTube Shorts videos for the Pix Phone 10 launch. Remember to test different variations to optimize performance. Good luck!\n"
          },
          "metadata": {}
        }
      ],
      "source": [
        "short_video_prompt = f\"\"\"\n",
        "  Given the marketing campaign brief, create a storyboard for a YouTube Shorts video for target markets: {creative_brief_json[\"target_countries\"]}.\n",
        "  Please localize the content to the target markets for better relevancy to the target audience.\n",
        "  Marketing Campaign Brief:\n",
        "  {creative_brief}\n",
        "\n",
        "\"\"\"\n",
        "\n",
        "contents = [short_video_prompt]\n",
        "\n",
        "response = client.models.generate_content(model=MODEL_ID, contents=contents)\n",
        "\n",
        "short_video_response = response.text\n",
        "display(Markdown(short_video_response))"
      ]
    },
    {
      "cell_type": "markdown",
      "metadata": {
        "id": "_LMu5uAqlS0V"
      },
      "source": [
        "There you go! You've successfully created storyboards for each of the target markets - localized to the local context!"
      ]
    },
    {
      "cell_type": "markdown",
      "metadata": {
        "id": "KXnkxZbeM0tY"
      },
      "source": [
        "# Conclusion\n",
        "In this tutorial, you've learned:\n",
        "- How to use the unified Google Gen AI SDK\n",
        "- Extract information from PDF documents\n",
        "- Use Controlled Generation to ensure consistent output in specified schema\n",
        "- Utilize Grounding with Google Search to access latest information\n",
        "- Create a marketing campaign and assets with Gemini"
      ]
    }
  ],
  "metadata": {
    "colab": {
      "collapsed_sections": [
        "dmWOrTJ3gx13"
      ],
      "name": "creating_marketing_assets_gemini_2_0.ipynb",
      "toc_visible": true,
      "provenance": []
    },
    "kernelspec": {
      "display_name": "Python 3",
      "name": "python3"
    }
  },
  "nbformat": 4,
  "nbformat_minor": 0
}
